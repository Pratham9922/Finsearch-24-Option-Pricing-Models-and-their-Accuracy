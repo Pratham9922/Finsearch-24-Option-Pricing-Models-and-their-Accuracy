{
 "cells": [
  {
   "cell_type": "code",
   "execution_count": null,
   "id": "eafeafa6",
   "metadata": {},
   "outputs": [],
   "source": [
    "import numpy as np\n",
    "import pandas as pd\n",
    "import scipy.stats as stats\n",
    "from datetime import datetime, timedelta\n",
    "\n",
    "# Function to calculate Black-Scholes option price\n",
    "def black_scholes_option_price(S, K, T, r, sigma, option_type='call'):\n",
    "    d1 = (np.log(S / K) + (r + 0.5 * sigma ** 2) * T) / (sigma * np.sqrt(T))\n",
    "    d2 = d1 - sigma * np.sqrt(T)\n",
    "\n",
    "    if option_type == 'call':\n",
    "        option_price = S * stats.norm.cdf(d1) - K * np.exp(-r * T) * stats.norm.cdf(d2)\n",
    "    elif option_type == 'put':\n",
    "        option_price = K * np.exp(-r * T) * stats.norm.cdf(-d2) - S * stats.norm.cdf(-d1)\n",
    "    else:\n",
    "        raise ValueError(\"Option type must be 'call' or 'put'.\")\n",
    "\n",
    "    return option_price\n",
    "\n",
    "# Example usage\n",
    "def backtest_black_scholes(nifty_data, strike_price, expiration_date, risk_free_rate, volatility):\n",
    "    # Assuming nifty_data is a pandas DataFrame with columns 'Date' and 'Close'\n",
    "    nifty_data['Date'] = pd.to_datetime(nifty_data['Date'])\n",
    "    end_date = pd.to_datetime(expiration_date)\n",
    "    \n",
    "    # Calculate time to expiration in years\n",
    "    nifty_data['TimeToExpiration'] = (end_date - nifty_data['Date']) / timedelta(days=365)\n",
    "    \n",
    "    # Calculate Black-Scholes option prices for each date\n",
    "    nifty_data['OptionPrice'] = nifty_data.apply(lambda row: black_scholes_option_price(row['Close'], strike_price, row['TimeToExpiration'], risk_free_rate, volatility), axis=1)\n",
    "    \n",
    "    return nifty_data[['Date', 'Close', 'TimeToExpiration', 'OptionPrice']]\n",
    "\n",
    "# Example usage:\n",
    "# Load historical Nifty50 data (replace with your actual data loading code)\n",
    "nifty_data = pd.read_csv('historical_nifty50_data.csv')\n",
    "\n",
    "# Set parameters\n",
    "strike_price = 12000  # Example strike price\n",
    "expiration_date = '2024-12-31'  # Example expiration date\n",
    "risk_free_rate = 0.05  # Example risk-free rate (5%)\n",
    "volatility = 0.2  # Example volatility (20%)\n",
    "\n",
    "# Backtest Black-Scholes model\n",
    "backtest_result = backtest_black_scholes(nifty_data, strike_price, expiration_date, risk_free_rate, volatility)\n",
    "\n",
    "# Print or visualize the backtest results\n",
    "print(backtest_result)\n"
   ]
  }
 ],
 "metadata": {
  "kernelspec": {
   "display_name": "Python 3 (ipykernel)",
   "language": "python",
   "name": "python3"
  },
  "language_info": {
   "codemirror_mode": {
    "name": "ipython",
    "version": 3
   },
   "file_extension": ".py",
   "mimetype": "text/x-python",
   "name": "python",
   "nbconvert_exporter": "python",
   "pygments_lexer": "ipython3",
   "version": "3.11.7"
  }
 },
 "nbformat": 4,
 "nbformat_minor": 5
}
